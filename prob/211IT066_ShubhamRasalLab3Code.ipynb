{
 "cells": [
  {
   "cell_type": "markdown",
   "metadata": {},
   "source": [
    "### Assignment 3 - Shubham Rasal 211IT066 "
   ]
  },
  {
   "cell_type": "code",
   "execution_count": 18,
   "metadata": {},
   "outputs": [],
   "source": [
    "import numpy as np"
   ]
  },
  {
   "cell_type": "code",
   "execution_count": 19,
   "metadata": {},
   "outputs": [],
   "source": [
    "# generate data for 5 sets of employees totalling 1000\n",
    "employee_50 = np.random.normal(50, 25, 50)\n",
    "employee_150 = np.random.normal(50, 25, 150)\n",
    "employee_200 = np.random.normal(50, 25, 200)\n",
    "employee_250 = np.random.normal(50, 25, 250)\n",
    "employee_350 = np.random.normal(50, 25, 350)"
   ]
  },
  {
   "cell_type": "code",
   "execution_count": 20,
   "metadata": {},
   "outputs": [
    {
     "name": "stdout",
     "output_type": "stream",
     "text": [
      "The probability of employees that get increment of different percentages: \n",
      "0% increment:  0.2\n",
      "10% increment:  0.119\n",
      "20% increment:  0.161\n",
      "25% increment:  0.166\n",
      "30% increment:  0.124\n",
      "50% increment:  0.103\n",
      "60% increment:  0.063\n",
      "70% increment:  0.043\n"
     ]
    }
   ],
   "source": [
    "# Find the probability of employees that get increment of different percentages (consider test\n",
    "# score fallows the normal distribution) (5M)\n",
    "# generate data for 5 sets of employees totalling 1000\n",
    "\n",
    "total_employees = 1000\n",
    "\n",
    "all_employees = np.concatenate([employee_50, employee_150 , employee_200, employee_250 , employee_350])\n",
    "# print(all_employees)\n",
    "\n",
    "# 10% increment\n",
    "count_0 = 0\n",
    "count_10 = 0\n",
    "count_20 = 0\n",
    "count_25 = 0\n",
    "count_30 = 0\n",
    "count_50 = 0\n",
    "count_60 = 0\n",
    "count_70 = 0\n",
    "\n",
    "for i in range(1000):\n",
    "    if all_employees[i] < 30:\n",
    "        count_0 += 1   \n",
    "    elif all_employees[i] > 30 and all_employees[i] < 40:\n",
    "        count_10 += 1\n",
    "    elif all_employees[i] > 40 and all_employees[i] < 50:\n",
    "        count_20 += 1\n",
    "    elif all_employees[i] > 50 and all_employees[i] < 60:\n",
    "        count_25 += 1\n",
    "    elif all_employees[i] > 60 and all_employees[i] < 70:\n",
    "        count_30 += 1\n",
    "    elif all_employees[i] > 70 and all_employees[i] < 80:\n",
    "        count_50 += 1\n",
    "    elif all_employees[i] > 80 and all_employees[i] < 90:\n",
    "        count_60 += 1\n",
    "    elif all_employees[i] > 90 and all_employees[i] < 100:\n",
    "        count_70 += 1\n",
    "\n",
    "print(\"The probability of employees that get increment of different percentages: \")\n",
    "\n",
    "\n",
    "print(\"0% increment: \" , count_0 / total_employees)\n",
    "print(\"10% increment: \", count_10/total_employees)\n",
    "print(\"20% increment: \", count_20/total_employees)\n",
    "print(\"25% increment: \", count_25/total_employees)\n",
    "print(\"30% increment: \", count_30/total_employees)\n",
    "print(\"50% increment: \", count_50/total_employees)\n",
    "print(\"60% increment: \", count_60/total_employees)\n",
    "print(\"70% increment: \", count_70/total_employees)\n",
    "\n",
    "\n"
   ]
  },
  {
   "cell_type": "markdown",
   "metadata": {},
   "source": [
    "#### Total increase in salaries for all the employees"
   ]
  },
  {
   "cell_type": "code",
   "execution_count": 21,
   "metadata": {},
   "outputs": [
    {
     "name": "stdout",
     "output_type": "stream",
     "text": [
      "Total increase in salaries:  24531250.0\n"
     ]
    }
   ],
   "source": [
    "# get total increase in salaries\n",
    "\n",
    "\n",
    "def calculate_increase(salary, employee):\n",
    "    increase = 0\n",
    "    for i in employee:\n",
    "        if i >= 30 and i < 40:\n",
    "            increase += 0.1 * salary\n",
    "        elif i >= 40 and i < 50:\n",
    "            increase += 0.2 * salary\n",
    "        elif i >= 50 and i < 60:\n",
    "            increase += 0.25 * salary\n",
    "        elif i >= 60 and i < 70:\n",
    "            increase += 0.3 * salary\n",
    "        elif i >= 70 and i < 80:\n",
    "            increase += 0.5 * salary\n",
    "        elif i >= 80 and i < 90:\n",
    "            increase += 0.6 * salary\n",
    "        elif i >= 90 and i < 100:\n",
    "            increase += 0.7 * salary\n",
    "    return increase\n",
    "\n",
    "increase_50 = calculate_increase(300000, employee_50)\n",
    "increase_150 = calculate_increase(200000, employee_150)\n",
    "increase_200 = calculate_increase(100000, employee_200)\n",
    "increase_250 = calculate_increase(75000, employee_250)\n",
    "increase_350 = calculate_increase(50000, employee_350)\n",
    "\n",
    "\n",
    "total_increase = increase_50 + increase_150 + increase_200 + increase_250 + increase_350\n",
    "\n",
    "print(\"Total increase in salaries: \", total_increase)\n",
    "    "
   ]
  },
  {
   "cell_type": "code",
   "execution_count": 22,
   "metadata": {},
   "outputs": [
    {
     "name": "stdout",
     "output_type": "stream",
     "text": [
      "Number of employees promoted:  333\n",
      "(i) Probability of employees promoted:  0.333\n",
      "(ii) Probability of employees getting hike:  0.779\n",
      "(iii) Probability of employees getting neither hike nor promotion:  0.2\n"
     ]
    }
   ],
   "source": [
    "# promotion for employees with 60% and above score (5M)\n",
    "\n",
    "promote_count = count_30 + count_50 + count_60 + count_70\n",
    "\n",
    "print(\"Number of employees promoted: \", promote_count)\n",
    "\n",
    "probability_promote = promote_count / total_employees\n",
    "\n",
    "print(\"(i) Probability of employees promoted: \", probability_promote)\n",
    "\n",
    "# What is the probability of employees getting (a) a promotion (b) Promotion and minimum of\n",
    "# 25% hike (c) Only hike (d) Neither hike nor promotion? (4M)\n",
    "\n",
    "probability_hike = (count_10 + count_20 + count_25 + count_30 + count_50 + count_60 + count_70) / total_employees\n",
    "\n",
    "print(\"(ii) Probability of employees getting hike: \", probability_hike)\n",
    "\n",
    "probability_none = count_0 / total_employees\n",
    "\n",
    "print(\"(iii) Probability of employees getting neither hike nor promotion: \", probability_none)\n"
   ]
  }
 ],
 "metadata": {
  "kernelspec": {
   "display_name": "Python 3",
   "language": "python",
   "name": "python3"
  },
  "language_info": {
   "codemirror_mode": {
    "name": "ipython",
    "version": 3
   },
   "file_extension": ".py",
   "mimetype": "text/x-python",
   "name": "python",
   "nbconvert_exporter": "python",
   "pygments_lexer": "ipython3",
   "version": "3.11.5"
  }
 },
 "nbformat": 4,
 "nbformat_minor": 2
}
