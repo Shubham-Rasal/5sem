{
 "cells": [
  {
   "cell_type": "code",
   "execution_count": 21,
   "metadata": {},
   "outputs": [],
   "source": [
    "import numpy as np\n",
    "import matplotlib.pyplot as plt\n",
    "# %pip install prettytable\n",
    "import prettytable as pt\n"
   ]
  },
  {
   "cell_type": "markdown",
   "metadata": {},
   "source": [
    "### Problem 1"
   ]
  },
  {
   "cell_type": "code",
   "execution_count": 22,
   "metadata": {},
   "outputs": [
    {
     "name": "stdout",
     "output_type": "stream",
     "text": [
      "Joint Distribution\n",
      "+-----+-----+-----+-----+\n",
      "| X/Y |  1  |  2  |  3  |\n",
      "+-----+-----+-----+-----+\n",
      "|  1  | 0.1 | 0.2 | 0.1 |\n",
      "|  2  | 0.2 | 0.3 | 0.0 |\n",
      "|  3  | 0.0 | 0.1 | 0.0 |\n",
      "+-----+-----+-----+-----+\n"
     ]
    }
   ],
   "source": [
    "#take joint distribution of x and y with x from1 to 3 and y from 1 to 3 as a 2D array\n",
    "joint_dist = np.array([[0.1,0.2,0.1],[0.2,0.3,0.0],[0.0,0.1,0.0]])\n",
    "\n",
    "#print 0.0 as 0.0\n",
    "np.set_printoptions(formatter={'float': lambda x: \"{0:0.1f}\".format(x) if x!=0 else \"0.0\"})\n",
    "\n",
    "#pritty table for joint distribution\n",
    "table = pt.PrettyTable()\n",
    "table.field_names = [\"X/Y\",\"1\",\"2\",\"3\"]\n",
    "table.add_row([\"1\",joint_dist[0][0],joint_dist[0][1],joint_dist[0][2]])\n",
    "table.add_row([\"2\",joint_dist[1][0],joint_dist[1][1],joint_dist[1][2]])\n",
    "table.add_row([\"3\",joint_dist[2][0],joint_dist[2][1],joint_dist[2][2]])\n",
    "print(\"Joint Distribution\")\n",
    "print(table)"
   ]
  },
  {
   "cell_type": "markdown",
   "metadata": {},
   "source": [
    "(a) Marginal distribution of X and Y"
   ]
  },
  {
   "cell_type": "code",
   "execution_count": 23,
   "metadata": {},
   "outputs": [
    {
     "name": "stdout",
     "output_type": "stream",
     "text": [
      "Marginal Distribution of X\n",
      "+---+-----+-----+-----+\n",
      "| X |  1  |  2  |  3  |\n",
      "+---+-----+-----+-----+\n",
      "|   | 0.4 | 0.5 | 0.1 |\n",
      "+---+-----+-----+-----+\n",
      "Marginal Distribution of Y\n",
      "+---+-----+-----+-----+\n",
      "| Y |  1  |  2  |  3  |\n",
      "+---+-----+-----+-----+\n",
      "|   | 0.3 | 0.6 | 0.1 |\n",
      "+---+-----+-----+-----+\n"
     ]
    }
   ],
   "source": [
    "\n",
    "\n",
    "#take marginal distribution of x and y as a 1D array\n",
    "marginal_dist_x = np.sum(joint_dist,axis=1)\n",
    "marginal_dist_y = np.sum(joint_dist,axis=0)\n",
    "#pritty table for marginal distribution of x\n",
    "table = pt.PrettyTable()\n",
    "table.field_names = [\"X\",\"1\",\"2\",\"3\"]\n",
    "table.add_row([\"\",marginal_dist_x[0],marginal_dist_x[1],marginal_dist_x[2]])\n",
    "print(\"Marginal Distribution of X\")\n",
    "print(table)\n",
    "\n",
    "#pritty table for marginal distribution of y\n",
    "table = pt.PrettyTable()\n",
    "table.field_names = [\"Y\",\"1\",\"2\",\"3\"]\n",
    "table.add_row([\"\",marginal_dist_y[0].round(2),marginal_dist_y[1],marginal_dist_y[2]])\n",
    "print(\"Marginal Distribution of Y\")\n",
    "print(table)\n"
   ]
  },
  {
   "cell_type": "markdown",
   "metadata": {},
   "source": [
    "The code calculates the marginal distributions of two random variables X and Y using a joint probability distribution. It uses the `np.sum` function to sum the elements of each row and column of the `joint_dist` array to obtain the marginal distributions of X and Y, respectively. The resulting arrays are stored in the variables `marginal_dist_x` and `marginal_dist_y`. The code also includes a comment that suggests using a \"pretty table\" to display the marginal distribution of X."
   ]
  },
  {
   "cell_type": "markdown",
   "metadata": {},
   "source": [
    "(b) Conditional Probability of X = 2 given Y = 1"
   ]
  },
  {
   "cell_type": "code",
   "execution_count": 24,
   "metadata": {},
   "outputs": [
    {
     "name": "stdout",
     "output_type": "stream",
     "text": [
      "P(x=2|y=1) =  0.67\n"
     ]
    }
   ],
   "source": [
    "#calculate the probability of x = 2 given y = 1\n",
    "#P(x=2|y=1) = P(x=2,y=1)/P(y=1)\n",
    "\n",
    "#P(x=2,y=1) = 0.2\n",
    "#P(y=1) = 0.3\n",
    "\n",
    "#calculate the probability of x = 2 given y = 1\n",
    "prob_x2_given_y1 = joint_dist[1,0]/marginal_dist_y[0]\n",
    "print(\"P(x=2|y=1) = \",prob_x2_given_y1.round(2))"
   ]
  },
  {
   "cell_type": "markdown",
   "metadata": {},
   "source": [
    "The code calculates the conditional probability of a random variable X taking on the value 2 given that another random variable Y takes on the value 1 using a joint probability distribution and marginal distributions of X and Y. It uses the formula `P(x=2|y=1) = P(x=2,y=1)/P(y=1)` to calculate the conditional probability, where `P(x=2,y=1)` is obtained from the joint probability distribution and `P(y=1)` is obtained from the marginal distribution of Y. The resulting conditional probability is stored in the variable `prob_x2_given_y1` and printed using the `print` function."
   ]
  },
  {
   "cell_type": "markdown",
   "metadata": {},
   "source": [
    "Problem 2"
   ]
  },
  {
   "cell_type": "markdown",
   "metadata": {},
   "source": [
    "(a) Find the CDF from the given PDF \n",
    "\n",
    "    f(x) = 3x^2 for 0 <= x <= 1 , 0 otherwise"
   ]
  },
  {
   "cell_type": "code",
   "execution_count": 25,
   "metadata": {},
   "outputs": [
    {
     "name": "stdout",
     "output_type": "stream",
     "text": [
      "PDF of X :\n",
      "\n",
      "⎧ 0    for x < 0\n",
      "⎪               \n",
      "⎪   2           \n",
      "⎨3⋅x   for x ≤ 1\n",
      "⎪               \n",
      "⎪ 0    otherwise\n",
      "⎩               \n",
      "CDF of X :\n",
      "\n",
      "⎧0   for x < 0\n",
      "⎪             \n",
      "⎪ 3           \n",
      "⎨x   for x ≤ 1\n",
      "⎪             \n",
      "⎪1   otherwise\n",
      "⎩             \n"
     ]
    }
   ],
   "source": [
    "#find the cdf from pdf f(x) = 3x^2 for 0 <= x <= 1 , 0 otherwise\n",
    "import sympy as sym\n",
    "\n",
    "#pdf f(x) = 3x^2 for 0 <= x <= 1 , 0 otherwise\n",
    "\n",
    "x = sym.Symbol('x')\n",
    "\n",
    "#pdf f(x) = 3x^2 for 0 <= x <= 1 , 0 otherwise\n",
    "\n",
    "#pretty print the pdf\n",
    "f = sym.Piecewise((0, x < 0), (3*x**2, x <= 1), (0, True))\n",
    "\n",
    "print(\"PDF of X :\\n\")\n",
    "\n",
    "sym.pprint(f)\n",
    "\n",
    "#cdf F(x) = 0 for x < 0\n",
    "#cdf F(x) = x^3 for 0 <= x <= 1\n",
    "#cdf F(x) = 1 for x > 1\n",
    "\n",
    "import numpy as np\n",
    "from scipy.integrate import quad\n",
    "\n",
    "\n",
    "# Define the PDF function\n",
    "def pdf(x):\n",
    "    if 0 <= x <= 1:\n",
    "        return 3 * x**2\n",
    "    else:\n",
    "        return 0\n",
    "\n",
    "# Define the CDF function using numerical integration\n",
    "\n",
    "def cdf(x):\n",
    "    result, _ = quad(pdf, 0, x)\n",
    "    return result\n",
    "\n",
    "#print piecewise cdf\n",
    "\n",
    "#cdf F(x) = 0 for x < 0\n",
    "#cdf F(x) = x^3 for 0 <= x <= 1\n",
    "#cdf F(x) = 1 for x > 1\n",
    "\n",
    "#pretty print the cdf\n",
    "F = sym.Piecewise((0, x < 0), (x**3, x <= 1), (1, True))\n",
    "\n",
    "print(\"CDF of X :\\n\")\n",
    "\n",
    "sym.pprint(F)\n"
   ]
  },
  {
   "cell_type": "markdown",
   "metadata": {},
   "source": [
    "The code defines a probability density function (PDF) and a cumulative distribution function (CDF) for a random variable X using the SymPy library. The PDF is defined as a piecewise function that takes the value 3x^2 for 0 <= x <= 1, and 0 otherwise. The CDF is defined using numerical integration, which calculates the area under the PDF curve up to a certain value of x. The `pdf` and `cdf` functions are defined to calculate the PDF and CDF of X, respectively, using numerical integration. The PDF and CDF are pretty printed using the `pprint` function from the SymPy library."
   ]
  },
  {
   "cell_type": "markdown",
   "metadata": {},
   "source": [
    "(b) Expected value of x"
   ]
  },
  {
   "cell_type": "code",
   "execution_count": 26,
   "metadata": {},
   "outputs": [
    {
     "name": "stdout",
     "output_type": "stream",
     "text": [
      "Expected Value (Mean) of X: 0.75\n"
     ]
    }
   ],
   "source": [
    "#expected value of x\n",
    "\n",
    "#E(x) = sum(x*f(x)) for all x\n",
    "\n",
    "# Define the PDF function\n",
    "def pdf(x):\n",
    "    if 0 <= x <= 1:\n",
    "        return 3 * x**2\n",
    "    else:\n",
    "        return 0\n",
    "\n",
    "# Calculate the expected value (mean) of X using numerical integration\n",
    "expected_value, _ = quad(lambda x: x * pdf(x), 0, 1)\n",
    "\n",
    "print(f\"Expected Value (Mean) of X: {expected_value}\")\n"
   ]
  },
  {
   "cell_type": "markdown",
   "metadata": {},
   "source": [
    "The code calculates the expected value of a probability density function (PDF) using numerical integration. It uses the `quad` function from the `scipy.integrate` module to perform the integration, and returns the expected value of the PDF as the result. The expected value is calculated by integrating the product of `x` and the PDF from 0 to 1."
   ]
  },
  {
   "cell_type": "markdown",
   "metadata": {},
   "source": [
    "(c) Variance of x"
   ]
  },
  {
   "cell_type": "code",
   "execution_count": 27,
   "metadata": {},
   "outputs": [
    {
     "name": "stdout",
     "output_type": "stream",
     "text": [
      "Variance of X: 0.0375\n"
     ]
    }
   ],
   "source": [
    "#variance of x\n",
    "\n",
    "#Var(x) = E(x^2) - E(x)^2\n",
    "\n",
    "# Define the PDF function\n",
    "def pdf(x):\n",
    "    if 0 <= x <= 1:\n",
    "        return 3 * x**2\n",
    "    else:\n",
    "        return 0\n",
    "\n",
    "# Calculate the expected value (mean) of X using numerical integration\n",
    "expected_value, _ = quad(lambda x: x * pdf(x), 0, 1)\n",
    "\n",
    "# Calculate the expected value of X squared using numerical integration\n",
    "expected_value_squared, _ = quad(lambda x: x**2 * pdf(x), 0, 1)\n",
    "\n",
    "# Calculate the variance of X\n",
    "variance = expected_value_squared - expected_value**2\n",
    "\n",
    "print(f\"Variance of X: {variance:.4f}\")"
   ]
  },
  {
   "cell_type": "markdown",
   "metadata": {},
   "source": [
    "The code calculates the expected value and variance of a probability density function (PDF) using numerical integration. It uses the `quad` function from the `scipy.integrate` module to perform the integration, and returns the expected value and variance of the PDF as the result. The expected value is calculated by integrating the product of `x` and the PDF from 0 to 1, and the variance is calculated by subtracting the square of the expected value from the expected value of X squared."
   ]
  },
  {
   "cell_type": "markdown",
   "metadata": {},
   "source": [
    "Problem 3\n",
    "\n",
    "X is uniform in [0 , 1] and y = x^2 . \n",
    "\n",
    "(a) Find the PDF of y"
   ]
  },
  {
   "cell_type": "code",
   "execution_count": 28,
   "metadata": {},
   "outputs": [
    {
     "name": "stdout",
     "output_type": "stream",
     "text": [
      "PDF of Y :\n",
      "\n",
      "⎧ 0    for y < 0\n",
      "⎪               \n",
      "⎪ 1             \n",
      "⎨────  for y ≤ 1\n",
      "⎪2⋅√y           \n",
      "⎪               \n",
      "⎩ 0    otherwise\n"
     ]
    },
    {
     "data": {
      "image/png": "[encoded data removed]",
      "text/plain": [
       "<Figure size 640x480 with 1 Axes>"
      ]
     },
     "metadata": {},
     "output_type": "display_data"
    }
   ],
   "source": [
    "# X is uniform in [0 , 1] and y = x^2 . \n",
    "\n",
    "import numpy as np\n",
    "import matplotlib.pyplot as plt\n",
    "import sympy as sym\n",
    "\n",
    "# Define the PDF of X (Uniform distribution)\n",
    "def pdf_x(x):\n",
    "    if 0 <= x <= 1:\n",
    "        return 1\n",
    "    else:\n",
    "        return 0\n",
    "\n",
    "# Define the transformation function from X to Y\n",
    "def transform_x_to_y(x):\n",
    "    return x**2\n",
    "\n",
    "# Define the PDF of Y using the transformation method\n",
    "def pdf_y(y):\n",
    "    if 0 < y <= 1:\n",
    "        # Derivative of the transformation function\n",
    "        return 1 / (2 * np.sqrt(y))\n",
    "    else:\n",
    "        return 0\n",
    "\n",
    "\n",
    "# Define the PDF of Y using sympy\n",
    "y = sym.symbols('y')\n",
    "f = sym.Piecewise((0, y < 0), (1 / (2 * sym.sqrt(y)), y <= 1), (0, True))\n",
    "# Pretty print the PDF of Y\n",
    "print(\"PDF of Y :\\n\")\n",
    "sym.pprint(f)\n",
    "\n",
    "# Generate values of Y and their corresponding PDF values\n",
    "# Define the range of Y values\n",
    "y_values = np.linspace(0, 1, 1000)\n",
    "pdf_y_values = [pdf_y(y) for y in y_values]\n",
    "\n",
    "# Plot the PDF of Y\n",
    "plt.plot(y_values, pdf_y_values)\n",
    "plt.title(\"PDF of Y (Y = X^2)\")\n",
    "plt.xlabel(\"Y\")\n",
    "plt.ylabel(\"PDF\")\n",
    "plt.grid(True)\n",
    "plt.show()\n",
    "\n"
   ]
  },
  {
   "cell_type": "markdown",
   "metadata": {},
   "source": [
    "(b) Expected value of y"
   ]
  },
  {
   "cell_type": "code",
   "execution_count": 29,
   "metadata": {},
   "outputs": [
    {
     "name": "stdout",
     "output_type": "stream",
     "text": [
      "Expected Value (Mean) of Y: 0.3333\n"
     ]
    }
   ],
   "source": [
    "#Expected value of y\n",
    "\n",
    "#E(y) = sum(y*f(y)) for all y\n",
    "\n",
    "expected_value_y , _ = quad(lambda y: y * pdf_y(y), 0, 1)\n",
    "\n",
    "print(f\"Expected Value (Mean) of Y: {expected_value_y:.4f}\")"
   ]
  },
  {
   "cell_type": "markdown",
   "metadata": {},
   "source": [
    "(c) Variance of y"
   ]
  },
  {
   "cell_type": "code",
   "execution_count": 30,
   "metadata": {},
   "outputs": [
    {
     "name": "stdout",
     "output_type": "stream",
     "text": [
      "Variance of Y: 0.0889\n"
     ]
    }
   ],
   "source": [
    "#Variance of y\n",
    "\n",
    "#Var(y) = E(y^2) - E(y)^2\n",
    "\n",
    "# Calculate the expected value (mean) of Y using numerical integration\n",
    "expected_value_y, _ = quad(lambda y: y * pdf_y(y), 0, 1)\n",
    "\n",
    "# Calculate the expected value of Y squared using numerical integration\n",
    "expected_value_squared_y, _ = quad(lambda y: y**2 * pdf_y(y), 0, 1)\n",
    "\n",
    "# Calculate the variance of Y\n",
    "variance_y = expected_value_squared_y - expected_value_y**2\n",
    "\n",
    "print(f\"Variance of Y: {variance_y:.4f}\")\n",
    "\n"
   ]
  },
  {
   "cell_type": "markdown",
   "metadata": {},
   "source": [
    "Problem 4\n",
    "\n",
    "Given bivariant random variable (X,Y) with joint PDF"
   ]
  },
  {
   "cell_type": "code",
   "execution_count": 31,
   "metadata": {},
   "outputs": [
    {
     "name": "stdout",
     "output_type": "stream",
     "text": [
      "Joint Distribution\n",
      "+-----+-----+-----+-----+\n",
      "| X/Y |  1  |  2  |  3  |\n",
      "+-----+-----+-----+-----+\n",
      "|  1  | 0.2 | 0.1 | 0.1 |\n",
      "|  2  | 0.1 | 0.2 | 0.1 |\n",
      "|  3  | 0.1 | 0.1 | 0.0 |\n",
      "+-----+-----+-----+-----+\n"
     ]
    }
   ],
   "source": [
    "# XIY 1 2 3\n",
    "\n",
    "# 1 0.2 0.1 0.1\n",
    "# 2 0.1 0.2 0.1\n",
    "# 3 0.1 0.1 0.0\n",
    "\n",
    "\n",
    "# Provided joint distribution\n",
    "new_joint_dist = np.array([[0.2, 0.1, 0.1], [0.1, 0.2, 0.1], [0.1, 0.1 , 0.0]])\n",
    "\n",
    "#pretty print the joint distribution\n",
    "table = pt.PrettyTable()\n",
    "table.field_names = [\"X/Y\",\"1\",\"2\",\"3\"]\n",
    "table.add_row([\"1\",new_joint_dist[0][0],new_joint_dist[0][1],new_joint_dist[0][2]])\n",
    "table.add_row([\"2\",new_joint_dist[1][0],new_joint_dist[1][1],new_joint_dist[1][2]])\n",
    "table.add_row([\"3\",new_joint_dist[2][0],new_joint_dist[2][1],new_joint_dist[2][2]])\n",
    "print(\"Joint Distribution\")\n",
    "print(table)"
   ]
  },
  {
   "cell_type": "markdown",
   "metadata": {},
   "source": [
    "(a) Find the covariance of X and Y"
   ]
  },
  {
   "cell_type": "code",
   "execution_count": 32,
   "metadata": {},
   "outputs": [
    {
     "name": "stdout",
     "output_type": "stream",
     "text": [
      "Expected Value (Mean) of X: 1.80\n",
      "Expected Value (Mean) of Y: 1.80\n",
      "Covariance of X and Y: -0.04\n"
     ]
    }
   ],
   "source": [
    "\n",
    "\n",
    "# Values for X and Y\n",
    "x_values = [1, 2 , 3]\n",
    "y_values = [1, 2, 3]\n",
    "\n",
    "# Calculate the expected values of X and Y\n",
    "mu_X = np.sum(x_values * np.sum(new_joint_dist, axis=1))\n",
    "mu_Y = np.sum(y_values * np.sum(new_joint_dist, axis=0))\n",
    "\n",
    "print(f\"Expected Value (Mean) of X: {mu_X:.2f}\")\n",
    "print(f\"Expected Value (Mean) of Y: {mu_Y:.2f}\")\n",
    "\n",
    "expected_XY = 0\n",
    "\n",
    "# Calculate E(XY)\n",
    "for i, x in enumerate(x_values):\n",
    "    for j, y in enumerate(y_values):\n",
    "        expected_XY += x * y * new_joint_dist[i, j]\n",
    "\n",
    "# Calculate the covariance using the formula\n",
    "cov_XY = expected_XY - mu_X * mu_Y\n",
    "\n",
    "print(f\"Covariance of X and Y: {cov_XY:.2f}\")\n",
    "\n",
    "\n"
   ]
  },
  {
   "cell_type": "markdown",
   "metadata": {},
   "source": [
    "The code calculates the expected values and covariance of two random variables X and Y using a joint probability distribution. The expected value of X is calculated by taking the weighted average of the values of X, where the weights are given by the marginal distribution of X. The expected value of Y is calculated in a similar way. The covariance of X and Y is then calculated using the formula `cov_XY = E(XY) - E(X)E(Y)`, where `E(XY)` is the expected value of the product of X and Y, and `E(X)` and `E(Y)` are the expected values of X and Y, respectively. The code uses the marginal distribution of X and Y to calculate the expected values of X and Y, and the joint probability distribution to calculate the covariance of X and Y."
   ]
  },
  {
   "cell_type": "markdown",
   "metadata": {},
   "source": [
    "(c) Correlation coefficient of X and Y"
   ]
  },
  {
   "cell_type": "code",
   "execution_count": 33,
   "metadata": {},
   "outputs": [
    {
     "name": "stdout",
     "output_type": "stream",
     "text": [
      "Correlation Coefficient of X and Y: -0.6928\n"
     ]
    }
   ],
   "source": [
    "#correlation coefficient of x and y\n",
    "\n",
    "#rho(x,y) = cov(x,y)/sqrt(var(x)*var(y))\n",
    "\n",
    "# Calculate the correlation coefficient using the formula\n",
    "corr_XY = cov_XY / np.sqrt(variance * variance_y)\n",
    "\n",
    "print(f\"Correlation Coefficient of X and Y: {corr_XY:.4f}\")"
   ]
  },
  {
   "cell_type": "markdown",
   "metadata": {},
   "source": [
    "The code calculates the correlation coefficient between two random variables X and Y using their covariance and variances. The correlation coefficient is calculated using the formula `corr_XY = cov_XY / np.sqrt(variance * variance_y)`. The result is printed using the `print` function."
   ]
  },
  {
   "cell_type": "markdown",
   "metadata": {},
   "source": [
    "### Problem 5 : Stock Price Random Variable\n",
    "\n",
    "X (in %) -2   -1   0    1    2\n",
    "p(x)     0.1 0.2 0.3 0.25 0.15"
   ]
  },
  {
   "cell_type": "code",
   "execution_count": 34,
   "metadata": {},
   "outputs": [
    {
     "name": "stdout",
     "output_type": "stream",
     "text": [
      "Probability Distribution of X\n",
      "+------+-----+-----+-----+------+------+\n",
      "|  X   |  -2 |  -1 |  0  |  1   |  2   |\n",
      "+------+-----+-----+-----+------+------+\n",
      "| p(x) | 0.1 | 0.2 | 0.3 | 0.25 | 0.15 |\n",
      "+------+-----+-----+-----+------+------+\n"
     ]
    }
   ],
   "source": [
    "# Define the values that X can take\n",
    "x_values = np.array([-2, -1, 0, 1, 2])\n",
    "p_x = np.array([0.1, 0.2, 0.3, 0.25, 0.15])\n",
    "\n",
    "#pretty print the values\n",
    "np.set_printoptions(formatter={'float': lambda x: \"{0:0.2f}\".format(x) if x!=0 else \"0.0\"})\n",
    "\n",
    "ptable = pt.PrettyTable()\n",
    "ptable.field_names = [\"X\",\"-2\",\"-1\",\"0\",\"1\",\"2\"]\n",
    "ptable.add_row([\"p(x)\",p_x[0],p_x[1],p_x[2],p_x[3],p_x[4]])\n",
    "print(\"Probability Distribution of X\")\n",
    "print(ptable)\n"
   ]
  },
  {
   "cell_type": "markdown",
   "metadata": {},
   "source": [
    "(a) Expected Value of random variable X"
   ]
  },
  {
   "cell_type": "code",
   "execution_count": 35,
   "metadata": {},
   "outputs": [
    {
     "name": "stdout",
     "output_type": "stream",
     "text": [
      "\n",
      " Expected Value (Mean) of X: 0.15\n"
     ]
    }
   ],
   "source": [
    "# Expected Value of random variable X\n",
    "\n",
    "# Problem 5 : Stock Price Random Variable\n",
    "\n",
    "# X (in %) -2   -1   0    1    2\n",
    "# p(x)     0.1 0.2 0.3 0.25 0.15\n",
    "\n",
    "# E(X) = sum(x*p(x)) for all x\n",
    "\n",
    "# Calculate the expected value (mean) of X\n",
    "expected_value = np.sum(x_values * p_x)\n",
    "\n",
    "print(f\"\\n Expected Value (Mean) of X: {expected_value:.2f}\")\n",
    "\n"
   ]
  },
  {
   "cell_type": "markdown",
   "metadata": {},
   "source": [
    "(b) Variance of random variable X"
   ]
  },
  {
   "cell_type": "code",
   "execution_count": 36,
   "metadata": {},
   "outputs": [
    {
     "name": "stdout",
     "output_type": "stream",
     "text": [
      "Variance of X: 1.43\n"
     ]
    }
   ],
   "source": [
    "\n",
    "# Variance of random variable X\n",
    "\n",
    "#variance of X = E(X^2) - E(X)^2\n",
    "\n",
    "expected_x_squared = np.sum(x_values**2 * p_x)\n",
    "\n",
    "# Calculate the variance of X\n",
    "variance = expected_x_squared - expected_value**2\n",
    "\n",
    "#round of variance to 2 decimal places\n",
    "print(f\"Variance of X: {variance:.2f}\")\n",
    "\n"
   ]
  },
  {
   "cell_type": "markdown",
   "metadata": {},
   "source": [
    "(c) Standard Deviation of random variable X"
   ]
  },
  {
   "cell_type": "code",
   "execution_count": 37,
   "metadata": {},
   "outputs": [
    {
     "name": "stdout",
     "output_type": "stream",
     "text": [
      "Standard Deviation of X: 1.19\n"
     ]
    }
   ],
   "source": [
    "#standard deviation of X\n",
    "\n",
    "#standard deviation of X = sqrt(variance of X)\n",
    "deviation = np.sqrt(variance)\n",
    "\n",
    "print(f\"Standard Deviation of X: {deviation:.2f}\")"
   ]
  },
  {
   "cell_type": "markdown",
   "metadata": {},
   "source": [
    "(d) Probability that the stock price will increase by aleast  1%"
   ]
  },
  {
   "cell_type": "code",
   "execution_count": 38,
   "metadata": {},
   "outputs": [
    {
     "name": "stdout",
     "output_type": "stream",
     "text": [
      "Probability that X >= 1: 0.4\n"
     ]
    }
   ],
   "source": [
    " #Probability that the stock price will increase by aleast  1%\n",
    "\n",
    "# P(X >= 1) = sum(p(x)) for all x >= 1\n",
    "\n",
    "# Calculate the probability that X >= 1\n",
    "prob_X_ge_1 = np.sum(p_x[x_values >= 1])\n",
    "\n",
    "print(f\"Probability that X >= 1: {prob_X_ge_1}\")\n",
    "\n"
   ]
  },
  {
   "cell_type": "markdown",
   "metadata": {},
   "source": [
    "The code above is a Python code snippet that calculates the probability that a random variable X is greater than or equal to 1. The probability is calculated using a probability mass function (PMF) of X, which is represented as an array `p_x`. The values of the PMF correspond to the probability of X taking on a particular value.\n",
    "\n",
    "The `np.sum` function is used to sum the values of the PMF where the corresponding value of X is greater than or equal to 1. This gives the probability that X is greater than or equal to 1.\n"
   ]
  },
  {
   "cell_type": "markdown",
   "metadata": {},
   "source": [
    "(e) Probability that the stock price will change (increase or decrease) by less than 2%"
   ]
  },
  {
   "cell_type": "code",
   "execution_count": 39,
   "metadata": {},
   "outputs": [
    {
     "name": "stdout",
     "output_type": "stream",
     "text": [
      "Probability that |X| < 2: 0.75\n"
     ]
    }
   ],
   "source": [
    "# Probability that the stock price will change (increase or decrease) by less than 2%\n",
    "\n",
    "# P(|X| < 2) = sum(p(x)) for all |x| < 2\n",
    "\n",
    "# Calculate the probability that |X| < 2\n",
    "prob_X_lt_2 = np.sum(p_x[np.abs(x_values) < 2])\n",
    "\n",
    "print(f\"Probability that |X| < 2: {prob_X_lt_2}\")"
   ]
  },
  {
   "cell_type": "markdown",
   "metadata": {},
   "source": [
    "The code calculates the probability that a random variable X is less than 2 using a probability mass function. It uses the `np.abs` and less than operators to create a boolean array that selects the values of the PMF where the corresponding value of X is less than 2, and the `np.sum` function to sum these values, which gives the probability that X is less than 2. The result is stored in the variable `prob_X_lt_2`."
   ]
  }
 ],
 "metadata": {
  "kernelspec": {
   "display_name": "Python 3",
   "language": "python",
   "name": "python3"
  },
  "language_info": {
   "codemirror_mode": {
    "name": "ipython",
    "version": 3
   },
   "file_extension": ".py",
   "mimetype": "text/x-python",
   "name": "python",
   "nbconvert_exporter": "python",
   "pygments_lexer": "ipython3",
   "version": "3.10.11"
  }
 },
 "nbformat": 4,
 "nbformat_minor": 2
}
